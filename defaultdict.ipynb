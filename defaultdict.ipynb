{
 "cells": [
  {
   "cell_type": "markdown",
   "metadata": {},
   "source": [
    "The defaultdict is a class within the collections module in Python that inherits from the built-in dict class. It overrides one method to provide a default value for a nonexistent key. The main advantage of using defaultdict is that it allows you to set a default value for any new key, making it convenient for various use cases."
   ]
  },
  {
   "cell_type": "code",
   "execution_count": 2,
   "metadata": {},
   "outputs": [
    {
     "name": "stdout",
     "output_type": "stream",
     "text": [
      "defaultdict(<class 'int'>, {'a': 1, 'b': 2})\n"
     ]
    }
   ],
   "source": [
    "from collections import defaultdict\n",
    "\n",
    "# Creating a defaultdict with a default value of 0\n",
    "my_dict = defaultdict(int)\n",
    "\n",
    "# Accessing a nonexistent key creates it with the default value (0 in this case)\n",
    "my_dict['a'] += 1  # Now, my_dict contains {'a': 1}\n",
    "my_dict['b'] += 2  # Now, my_dict contains {'a': 1, 'b': 2}\n",
    "\n",
    "print(my_dict)\n"
   ]
  },
  {
   "cell_type": "markdown",
   "metadata": {},
   "source": []
  },
  {
   "cell_type": "markdown",
   "metadata": {},
   "source": [
    "Initialization with a Default Factory:\n",
    "You can initialize a defaultdict with a default factory function. The factory function is called for missing keys to provide a default value."
   ]
  },
  {
   "cell_type": "code",
   "execution_count": 4,
   "metadata": {},
   "outputs": [
    {
     "name": "stdout",
     "output_type": "stream",
     "text": [
      "defaultdict(<class 'list'>, {'a': [1], 'b': [2, 3]})\n"
     ]
    }
   ],
   "source": [
    "from collections import defaultdict\n",
    "\n",
    "# Using a default factory function to set default values to an empty list\n",
    "my_dict = defaultdict(list)\n",
    "\n",
    "# Accessing a nonexistent key creates it with the default value (an empty list in this case)\n",
    "my_dict['a'].append(1)  # Now, my_dict contains {'a': [1]}\n",
    "my_dict['b'].extend([2, 3])  # Now, my_dict contains {'a': [1], 'b': [2, 3]}\n",
    "print(my_dict)"
   ]
  },
  {
   "cell_type": "markdown",
   "metadata": {},
   "source": [
    "Default Factory with int, list, etc.:\n",
    "Commonly used default factories include int, list, set, etc. These provide default values of 0, [], and set(), respectively."
   ]
  },
  {
   "cell_type": "code",
   "execution_count": 1,
   "metadata": {},
   "outputs": [
    {
     "name": "stdout",
     "output_type": "stream",
     "text": [
      "defaultdict(<class 'int'>, {})\n",
      "defaultdict(<class 'list'>, {})\n",
      "defaultdict(<class 'set'>, {})\n"
     ]
    }
   ],
   "source": [
    "from collections import defaultdict\n",
    "\n",
    "# Using int as a default factory function to set default values to 0\n",
    "my_dict_int = defaultdict(int)\n",
    "\n",
    "# Using list as a default factory function to set default values to an empty list\n",
    "my_dict_list = defaultdict(list)\n",
    "\n",
    "# Using set as a default factory function to set default values to an empty set\n",
    "my_dict_set = defaultdict(set)\n",
    "\n",
    "print(my_dict_int)\n",
    "print(my_dict_list)\n",
    "print(my_dict_set)\n"
   ]
  },
  {
   "cell_type": "code",
   "execution_count": 7,
   "metadata": {},
   "outputs": [
    {
     "name": "stdout",
     "output_type": "stream",
     "text": [
      "defaultdict(<class 'int'>, {'a': 1})\n"
     ]
    }
   ],
   "source": [
    "from collections import defaultdict\n",
    "\n",
    "my_dict = defaultdict(int)\n",
    "\n",
    "# No need to check if 'a' exists; it will be created with the default value (0) if not present\n",
    "my_dict['a'] += 1  # Now, my_dict contains {'a': 1}\n",
    "\n",
    "print(my_dict)\n"
   ]
  }
 ],
 "metadata": {
  "kernelspec": {
   "display_name": "Python 3",
   "language": "python",
   "name": "python3"
  },
  "language_info": {
   "codemirror_mode": {
    "name": "ipython",
    "version": 3
   },
   "file_extension": ".py",
   "mimetype": "text/x-python",
   "name": "python",
   "nbconvert_exporter": "python",
   "pygments_lexer": "ipython3",
   "version": "3.9.2"
  }
 },
 "nbformat": 4,
 "nbformat_minor": 2
}
