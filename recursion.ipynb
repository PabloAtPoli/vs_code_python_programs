{
 "cells": [
  {
   "cell_type": "markdown",
   "metadata": {},
   "source": [
    "An incorrect recursion function is given. This function is incorrect because it remains in an infinite loop"
   ]
  },
  {
   "cell_type": "code",
   "execution_count": 1,
   "metadata": {},
   "outputs": [
    {
     "ename": "",
     "evalue": "",
     "output_type": "error",
     "traceback": [
      "\u001b[1;31mThe Kernel crashed while executing code in the current cell or a previous cell. \n",
      "\u001b[1;31mPlease review the code in the cell(s) to identify a possible cause of the failure. \n",
      "\u001b[1;31mClick <a href='https://aka.ms/vscodeJupyterKernelCrash'>here</a> for more info. \n",
      "\u001b[1;31mView Jupyter <a href='command:jupyter.viewOutput'>log</a> for further details."
     ]
    }
   ],
   "source": [
    "def function():\n",
    "    x = 10\n",
    "    function()\n",
    "\n",
    "function()"
   ]
  },
  {
   "cell_type": "markdown",
   "metadata": {},
   "source": [
    "Tells the recursion limit of the system"
   ]
  },
  {
   "cell_type": "code",
   "execution_count": null,
   "metadata": {},
   "outputs": [
    {
     "data": {
      "text/plain": [
       "3000"
      ]
     },
     "execution_count": 2,
     "metadata": {},
     "output_type": "execute_result"
    }
   ],
   "source": [
    "from sys import getrecursionlimit\n",
    "getrecursionlimit()"
   ]
  },
  {
   "cell_type": "markdown",
   "metadata": {},
   "source": [
    "Set the recursion limit to 2000"
   ]
  },
  {
   "cell_type": "code",
   "execution_count": null,
   "metadata": {},
   "outputs": [],
   "source": [
    "from sys import setrecursionlimit\n",
    "setrecursionlimit(2000)"
   ]
  },
  {
   "cell_type": "markdown",
   "metadata": {},
   "source": [
    "Count down to zero recursively"
   ]
  },
  {
   "cell_type": "code",
   "execution_count": null,
   "metadata": {},
   "outputs": [
    {
     "name": "stdout",
     "output_type": "stream",
     "text": [
      "3 ...\n",
      "2 ...\n",
      "1 ...\n",
      "Done!\n",
      "foo\n",
      "foo\n",
      "foo\n"
     ]
    }
   ],
   "source": [
    "def countdown(x):\n",
    "    if x == 0:\n",
    "        print(\"Done!\")\n",
    "        return\n",
    "    else:\n",
    "        print(x, \"...\")\n",
    "        countdown(x-1)\n",
    "        print(\"foo\")\n",
    "\n",
    "countdown(3)"
   ]
  },
  {
   "cell_type": "markdown",
   "metadata": {},
   "source": [
    "A more concise solution is given"
   ]
  },
  {
   "cell_type": "code",
   "execution_count": null,
   "metadata": {},
   "outputs": [
    {
     "name": "stdout",
     "output_type": "stream",
     "text": [
      "5\n",
      "4\n",
      "3\n",
      "2\n",
      "1\n",
      "0\n"
     ]
    }
   ],
   "source": [
    "def countdown(n):\n",
    "    print(n)\n",
    "    if n > 0:\n",
    "        countdown(n - 1)\n",
    "countdown(5)"
   ]
  },
  {
   "cell_type": "markdown",
   "metadata": {},
   "source": [
    "Countdown Iteratively"
   ]
  },
  {
   "cell_type": "code",
   "execution_count": null,
   "metadata": {},
   "outputs": [
    {
     "name": "stdout",
     "output_type": "stream",
     "text": [
      "5\n",
      "4\n",
      "3\n",
      "2\n",
      "1\n",
      "0\n"
     ]
    }
   ],
   "source": [
    "def countdown(n):\n",
    "     while n >= 0:\n",
    "        print(n)\n",
    "        n -= 1\n",
    "\n",
    "countdown(5)"
   ]
  },
  {
   "cell_type": "markdown",
   "metadata": {},
   "source": [
    "A Factorial Pythonic way"
   ]
  },
  {
   "cell_type": "code",
   "execution_count": null,
   "metadata": {},
   "outputs": [
    {
     "data": {
      "text/plain": [
       "24"
      ]
     },
     "execution_count": 7,
     "metadata": {},
     "output_type": "execute_result"
    }
   ],
   "source": [
    "def factorial(n):\n",
    "    return 1 if n <= 1 else n * factorial(n - 1)\n",
    "\n",
    "\n",
    "factorial(4)"
   ]
  },
  {
   "cell_type": "markdown",
   "metadata": {},
   "source": [
    "Factorial of a number recursively"
   ]
  },
  {
   "cell_type": "code",
   "execution_count": null,
   "metadata": {},
   "outputs": [
    {
     "data": {
      "text/plain": [
       "24"
      ]
     },
     "execution_count": 13,
     "metadata": {},
     "output_type": "execute_result"
    }
   ],
   "source": [
    "def factorial(n):\n",
    "    if n == 0:\n",
    "        return 1\n",
    "    else:\n",
    "        return n * factorial(n-1)\n",
    "    \n",
    "factorial(4)"
   ]
  },
  {
   "cell_type": "markdown",
   "metadata": {},
   "source": [
    "A little embellishment of this function with some print() statements gives a clearer idea of the call and return sequence:"
   ]
  },
  {
   "cell_type": "code",
   "execution_count": null,
   "metadata": {},
   "outputs": [
    {
     "name": "stdout",
     "output_type": "stream",
     "text": [
      "factorial() called with n = 3\n",
      "factorial() called with n = 2\n",
      "factorial() called with n = 1\n",
      "-> factorial(1) returns 1\n",
      "-> factorial(2) returns 2\n",
      "-> factorial(3) returns 6\n"
     ]
    },
    {
     "data": {
      "text/plain": [
       "6"
      ]
     },
     "execution_count": 14,
     "metadata": {},
     "output_type": "execute_result"
    }
   ],
   "source": [
    "def factorial(n):\n",
    "    print(f\"factorial() called with n = {n}\")\n",
    "    return_value = 1 if n <= 1 else n * factorial(n -1)\n",
    "    print(f\"-> factorial({n}) returns {return_value}\")\n",
    "    return return_value\n",
    "\n",
    "\n",
    "factorial(3)"
   ]
  },
  {
   "cell_type": "markdown",
   "metadata": {},
   "source": [
    "Factorial of a number iteratively"
   ]
  },
  {
   "cell_type": "code",
   "execution_count": null,
   "metadata": {},
   "outputs": [
    {
     "data": {
      "text/plain": [
       "24"
      ]
     },
     "execution_count": 15,
     "metadata": {},
     "output_type": "execute_result"
    }
   ],
   "source": [
    "def factorial(n):\n",
    "    return_value = 1\n",
    "    for i in range(2, n + 1):\n",
    "        return_value *= i\n",
    "    return return_value\n",
    "\n",
    "\n",
    "factorial(4)"
   ]
  },
  {
   "cell_type": "markdown",
   "metadata": {},
   "source": [
    "You can also implement factorial using Python’s reduce(), which you can import from the functools module:\n",
    "\n"
   ]
  },
  {
   "cell_type": "code",
   "execution_count": null,
   "metadata": {},
   "outputs": [
    {
     "data": {
      "text/plain": [
       "24"
      ]
     },
     "execution_count": 1,
     "metadata": {},
     "output_type": "execute_result"
    }
   ],
   "source": [
    "from functools import reduce\n",
    "def factorial(n):\n",
    "    return reduce(lambda x, y: x * y, range(1, n + 1) or [1])\n",
    "\n",
    "\n",
    "factorial(4)"
   ]
  },
  {
   "cell_type": "markdown",
   "metadata": {},
   "source": [
    "Example of using timeit"
   ]
  },
  {
   "cell_type": "code",
   "execution_count": null,
   "metadata": {},
   "outputs": [
    {
     "name": "stdout",
     "output_type": "stream",
     "text": [
      "foobar\n",
      "foobar\n",
      "foobar\n",
      "foobar\n",
      "foobar\n",
      "foobar\n",
      "foobar\n",
      "foobar\n",
      "foobar\n",
      "foobar\n",
      "foobar\n",
      "foobar\n",
      "foobar\n",
      "foobar\n",
      "foobar\n",
      "foobar\n",
      "foobar\n",
      "foobar\n",
      "foobar\n",
      "foobar\n",
      "foobar\n",
      "foobar\n",
      "foobar\n",
      "foobar\n",
      "foobar\n",
      "foobar\n",
      "foobar\n",
      "foobar\n",
      "foobar\n",
      "foobar\n",
      "foobar\n",
      "foobar\n",
      "foobar\n",
      "foobar\n",
      "foobar\n",
      "foobar\n",
      "foobar\n",
      "foobar\n",
      "foobar\n",
      "foobar\n",
      "foobar\n",
      "foobar\n",
      "foobar\n",
      "foobar\n",
      "foobar\n",
      "foobar\n",
      "foobar\n",
      "foobar\n",
      "foobar\n",
      "foobar\n",
      "foobar\n",
      "foobar\n",
      "foobar\n",
      "foobar\n",
      "foobar\n",
      "foobar\n",
      "foobar\n",
      "foobar\n",
      "foobar\n",
      "foobar\n",
      "foobar\n",
      "foobar\n",
      "foobar\n",
      "foobar\n",
      "foobar\n",
      "foobar\n",
      "foobar\n",
      "foobar\n",
      "foobar\n",
      "foobar\n",
      "foobar\n",
      "foobar\n",
      "foobar\n",
      "foobar\n",
      "foobar\n",
      "foobar\n",
      "foobar\n",
      "foobar\n",
      "foobar\n",
      "foobar\n",
      "foobar\n",
      "foobar\n",
      "foobar\n",
      "foobar\n",
      "foobar\n",
      "foobar\n",
      "foobar\n",
      "foobar\n",
      "foobar\n",
      "foobar\n",
      "foobar\n",
      "foobar\n",
      "foobar\n",
      "foobar\n",
      "foobar\n",
      "foobar\n",
      "foobar\n",
      "foobar\n",
      "foobar\n",
      "foobar\n"
     ]
    },
    {
     "data": {
      "text/plain": [
       "0.00045230000000628934"
      ]
     },
     "execution_count": 2,
     "metadata": {},
     "output_type": "execute_result"
    }
   ],
   "source": [
    "from timeit import timeit\n",
    "\n",
    "timeit(\"print(string)\", setup=\"string='foobar'\", number=100)"
   ]
  },
  {
   "cell_type": "markdown",
   "metadata": {},
   "source": [
    "Let us compare the performance of the recursive, iterative, and reduce() implementations of the factorial function. We will use the timeit module to measure the time taken by each implementation to calculate the factorial of a number."
   ]
  },
  {
   "cell_type": "markdown",
   "metadata": {},
   "source": [
    "First, let us measure the time taken by the recursive implementation to calculate the factorial of 4 10,000,000 times:"
   ]
  },
  {
   "cell_type": "code",
   "execution_count": null,
   "metadata": {},
   "outputs": [
    {
     "name": "stdout",
     "output_type": "stream",
     "text": [
      "Recursive:\n"
     ]
    },
    {
     "data": {
      "text/plain": [
       "5.2311937999999145"
      ]
     },
     "execution_count": 3,
     "metadata": {},
     "output_type": "execute_result"
    }
   ],
   "source": [
    "setup_string = \"\"\"\n",
    "print(\"Recursive:\")\n",
    "def factorial(n):\n",
    "    return 1 if n <= 1 else n * factorial(n - 1)\n",
    "\"\"\"\n",
    "\n",
    "from timeit import timeit\n",
    "timeit(\"factorial(4)\", setup=setup_string, number=10000000)"
   ]
  },
  {
   "cell_type": "markdown",
   "metadata": {},
   "source": [
    "Next up is the iterative implementation:"
   ]
  },
  {
   "cell_type": "code",
   "execution_count": null,
   "metadata": {},
   "outputs": [
    {
     "name": "stdout",
     "output_type": "stream",
     "text": [
      "Iterative:\n"
     ]
    },
    {
     "data": {
      "text/plain": [
       "4.40296330000001"
      ]
     },
     "execution_count": 4,
     "metadata": {},
     "output_type": "execute_result"
    }
   ],
   "source": [
    "setup_string = \"\"\"\n",
    "print(\"Iterative:\")\n",
    "def factorial(n):\n",
    "    return_value = 1\n",
    "    for i in range(2, n + 1):\n",
    "        return_value *= i\n",
    "    return return_value\n",
    "\"\"\"\n",
    "\n",
    "from timeit import timeit\n",
    "timeit(\"factorial(4)\", setup=setup_string, number=10000000)"
   ]
  },
  {
   "cell_type": "markdown",
   "metadata": {},
   "source": [
    "Finally, let us measure the time taken by the reduce() implementation:"
   ]
  },
  {
   "cell_type": "code",
   "execution_count": null,
   "metadata": {},
   "outputs": [
    {
     "name": "stdout",
     "output_type": "stream",
     "text": [
      "reduce():\n"
     ]
    },
    {
     "data": {
      "text/plain": [
       "7.018419999999992"
      ]
     },
     "execution_count": 5,
     "metadata": {},
     "output_type": "execute_result"
    }
   ],
   "source": [
    "setup_string = \"\"\"\n",
    "from functools import reduce\n",
    "print(\"reduce():\")\n",
    "def factorial(n):\n",
    "    return reduce(lambda x, y: x * y, range(1, n + 1) or [1])\n",
    "\"\"\"\n",
    "\n",
    "from timeit import timeit\n",
    "timeit(\"factorial(4)\", setup=setup_string, number=10000000)"
   ]
  },
  {
   "cell_type": "markdown",
   "metadata": {},
   "source": [
    "Frankly, if you’re coding in Python, you don’t need to implement a factorial function at all. It’s already available in the standard math module:"
   ]
  },
  {
   "cell_type": "code",
   "execution_count": null,
   "metadata": {},
   "outputs": [
    {
     "data": {
      "text/plain": [
       "24"
      ]
     },
     "execution_count": 7,
     "metadata": {},
     "output_type": "execute_result"
    }
   ],
   "source": [
    "from math import factorial\n",
    "factorial(4)"
   ]
  },
  {
   "cell_type": "markdown",
   "metadata": {},
   "source": [
    "Perhaps it might interest you to know how this performs in the timing test:"
   ]
  },
  {
   "cell_type": "code",
   "execution_count": null,
   "metadata": {},
   "outputs": [
    {
     "data": {
      "text/plain": [
       "0.5103333999998085"
      ]
     },
     "execution_count": 6,
     "metadata": {},
     "output_type": "execute_result"
    }
   ],
   "source": [
    "setup_string = \"from math import factorial\"\n",
    "\n",
    "from timeit import timeit\n",
    "timeit(\"factorial(4)\", setup=setup_string, number=10000000)"
   ]
  },
  {
   "cell_type": "markdown",
   "metadata": {},
   "source": [
    "Traverse a Nested List"
   ]
  },
  {
   "cell_type": "code",
   "execution_count": null,
   "metadata": {},
   "outputs": [],
   "source": [
    "names = [\n",
    "    \"Adam\",\n",
    "    [\n",
    "        \"Bob\",\n",
    "        [\n",
    "            \"Chet\",\n",
    "            \"Cat\",\n",
    "        ],\n",
    "        \"Barb\",\n",
    "        \"Bert\"\n",
    "    ],\n",
    "    \"Alex\",\n",
    "    [\n",
    "        \"Bea\",\n",
    "        \"Bill\"\n",
    "    ],\n",
    "    \"Ann\"\n",
    "]"
   ]
  },
  {
   "cell_type": "code",
   "execution_count": null,
   "metadata": {},
   "outputs": [
    {
     "name": "stdout",
     "output_type": "stream",
     "text": [
      "5\n",
      "2\n",
      "4\n"
     ]
    }
   ],
   "source": [
    "print(len(names))\n",
    "print(len(names[1][1]))\n",
    "print(len(names[1][2]))"
   ]
  },
  {
   "cell_type": "markdown",
   "metadata": {},
   "source": [
    "Print the elements of the names list iteratively"
   ]
  },
  {
   "cell_type": "code",
   "execution_count": null,
   "metadata": {},
   "outputs": [
    {
     "name": "stdout",
     "output_type": "stream",
     "text": [
      "0 Adam\n",
      "1 ['Bob', ['Chet', 'Cat'], 'Barb', 'Bert']\n",
      "2 Alex\n",
      "3 ['Bea', 'Bill']\n",
      "4 Ann\n"
     ]
    }
   ],
   "source": [
    "for index, item in enumerate(names):\n",
    "    print(index, item)"
   ]
  },
  {
   "cell_type": "code",
   "execution_count": null,
   "metadata": {},
   "outputs": [
    {
     "name": "stdout",
     "output_type": "stream",
     "text": [
      "Adam\n",
      "False\n",
      "['Bob', ['Chet', 'Cat'], 'Barb', 'Bert']\n",
      "True\n",
      "['Chet', 'Cat']\n",
      "True\n",
      "Chet\n",
      "False\n"
     ]
    }
   ],
   "source": [
    "names\n",
    "\n",
    "print(names[0])\n",
    "print(isinstance(names[0], list))\n",
    "\n",
    "print(names[1])\n",
    "print(isinstance(names[1], list))\n",
    "\n",
    "print(names[1][1])\n",
    "print(isinstance(names[1][1], list))\n",
    "\n",
    "print(names[1][1][0])\n",
    "print(isinstance(names[1][1][0], list))"
   ]
  },
  {
   "cell_type": "markdown",
   "metadata": {},
   "source": [
    " Function that counts leaf elements in a list, accounting for sublists recursively:\n",
    "\n"
   ]
  },
  {
   "cell_type": "code",
   "execution_count": null,
   "metadata": {},
   "outputs": [
    {
     "data": {
      "text/plain": [
       "10"
      ]
     },
     "execution_count": 13,
     "metadata": {},
     "output_type": "execute_result"
    }
   ],
   "source": [
    "def count_leaf_items(item_list):\n",
    "    \"\"\"Recursively counts and returns the\n",
    "       number of leaf items in a (potentially\n",
    "       nested) list.\n",
    "    \"\"\"\n",
    "    count = 0\n",
    "    for item in item_list:\n",
    "        if isinstance(item, list):\n",
    "            count += count_leaf_items(item)\n",
    "        else:\n",
    "            count += 1\n",
    "\n",
    "    return count\n",
    "\n",
    "count_leaf_items(names)"
   ]
  },
  {
   "cell_type": "code",
   "execution_count": null,
   "metadata": {},
   "outputs": [
    {
     "name": "stdout",
     "output_type": "stream",
     "text": [
      "4\n",
      "4\n",
      "0\n",
      "10\n"
     ]
    }
   ],
   "source": [
    "print(count_leaf_items([1, 2, 3, 4]))\n",
    "\n",
    "print(count_leaf_items([1, [2.1, 2.2], 3]))\n",
    "\n",
    "print(count_leaf_items([]))\n",
    "\n",
    "print(count_leaf_items(names))\n",
    "\n"
   ]
  },
  {
   "cell_type": "markdown",
   "metadata": {},
   "source": [
    "As with the factorial example, adding some print() statements helps to demonstrate the sequence of recursive calls and return values:"
   ]
  },
  {
   "cell_type": "code",
   "execution_count": null,
   "metadata": {},
   "outputs": [
    {
     "name": "stdout",
     "output_type": "stream",
     "text": [
      "List: ['Adam', ['Bob', ['Chet', 'Cat'], 'Barb', 'Bert'], 'Alex', ['Bea', 'Bill'], 'Ann']\n",
      "Counted leaf item \"Adam\"\n",
      "Encountered sublist\n",
      "List: ['Bob', ['Chet', 'Cat'], 'Barb', 'Bert']\n",
      "Counted leaf item \"Bob\"\n",
      "Encountered sublist\n",
      "List: ['Chet', 'Cat']\n",
      "Counted leaf item \"Chet\"\n",
      "Counted leaf item \"Cat\"\n",
      "-> Returning count 2\n",
      "Counted leaf item \"Barb\"\n",
      "Counted leaf item \"Bert\"\n",
      "-> Returning count 5\n",
      "Counted leaf item \"Alex\"\n",
      "Encountered sublist\n",
      "List: ['Bea', 'Bill']\n",
      "Counted leaf item \"Bea\"\n",
      "Counted leaf item \"Bill\"\n",
      "-> Returning count 2\n",
      "Counted leaf item \"Ann\"\n",
      "-> Returning count 10\n"
     ]
    },
    {
     "data": {
      "text/plain": [
       "10"
      ]
     },
     "execution_count": 15,
     "metadata": {},
     "output_type": "execute_result"
    }
   ],
   "source": [
    "def count_leaf_items(item_list):\n",
    "    \"\"\"Recursively counts and returns the\n",
    "       number of leaf items in a (potentially\n",
    "       nested) list.\n",
    "    \"\"\"\n",
    "    print(f\"List: {item_list}\")\n",
    "    count = 0\n",
    "    for item in item_list:\n",
    "        if isinstance(item, list):\n",
    "            print(\"Encountered sublist\")\n",
    "            count += count_leaf_items(item)\n",
    "        else:\n",
    "            print(f\"Counted leaf item \\\"{item}\\\"\")\n",
    "            count += 1\n",
    "\n",
    "    print(f\"-> Returning count {count}\")\n",
    "    return count\n",
    "\n",
    "count_leaf_items(names)"
   ]
  },
  {
   "cell_type": "markdown",
   "metadata": {},
   "source": [
    "Traverse a Nested List Non-Recursively"
   ]
  },
  {
   "cell_type": "code",
   "execution_count": null,
   "metadata": {},
   "outputs": [],
   "source": []
  },
  {
   "cell_type": "code",
   "execution_count": null,
   "metadata": {},
   "outputs": [
    {
     "name": "stdout",
     "output_type": "stream",
     "text": [
      "current_list= ['Chet', 'Cat']\n",
      "current_list= ['Bob', ['Chet', 'Cat'], 'Barb', 'Bert']\n",
      "current_list= ['Bea', 'Bill']\n",
      "current_list= ['Adam', ['Bob', ['Chet', 'Cat'], 'Barb', 'Bert'], 'Alex', ['Bea', 'Bill'], 'Ann']\n"
     ]
    },
    {
     "data": {
      "text/plain": [
       "10"
      ]
     },
     "execution_count": 17,
     "metadata": {},
     "output_type": "execute_result"
    }
   ],
   "source": [
    "def count_leaf_items(item_list):\n",
    "    \"\"\"Non-recursively counts and returns the number of leaf items in a (potentially nested) list. \"\"\"\n",
    "    count = 0\n",
    "    stack = []\n",
    "    current_list = item_list\n",
    "    i = 0\n",
    "\n",
    "    while True:\n",
    "        if i == len(current_list):\n",
    "            print(\"current_list=\", current_list)\n",
    "            if current_list == item_list:\n",
    "                return count\n",
    "            else:\n",
    "                current_list, i = stack.pop()\n",
    "                i += 1\n",
    "                continue\n",
    "\n",
    "        if isinstance(current_list[i], list):\n",
    "            stack.append([current_list, i])\n",
    "            current_list = current_list[i]\n",
    "            i = 0\n",
    "        else:\n",
    "            count += 1\n",
    "            i += 1\n",
    "\n",
    "count_leaf_items(names)"
   ]
  },
  {
   "cell_type": "markdown",
   "metadata": {},
   "source": [
    "Palindrome Iterative"
   ]
  },
  {
   "cell_type": "code",
   "execution_count": null,
   "metadata": {},
   "outputs": [
    {
     "name": "stdout",
     "output_type": "stream",
     "text": [
      "False\n",
      "True\n",
      "False\n",
      "True\n"
     ]
    }
   ],
   "source": [
    "def is_palindrome(word):\n",
    "    \"\"\"Return True if word is a palindrome, False if not.\"\"\"\n",
    "    return word == word[::-1]\n",
    "\n",
    "\n",
    "print(is_palindrome(\"foo\"))\n",
    "\n",
    "print(is_palindrome(\"racecar\"))\n",
    "\n",
    "print(is_palindrome(\"troglodyte\"))\n",
    "\n",
    "print(is_palindrome(\"civic\"))"
   ]
  },
  {
   "cell_type": "markdown",
   "metadata": {},
   "source": [
    "Palindrome Recursive"
   ]
  },
  {
   "cell_type": "code",
   "execution_count": null,
   "metadata": {},
   "outputs": [
    {
     "name": "stdout",
     "output_type": "stream",
     "text": [
      "True\n",
      "True\n",
      "False\n",
      "True\n",
      "False\n"
     ]
    },
    {
     "data": {
      "text/plain": [
       "True"
      ]
     },
     "execution_count": 4,
     "metadata": {},
     "output_type": "execute_result"
    }
   ],
   "source": [
    "def is_palindrome(word):\n",
    "    \"\"\"Return True if word is a palindrome, False if not.\"\"\"\n",
    "    if len(word) <= 1:\n",
    "        return True\n",
    "    else:\n",
    "        return word[0] == word[-1] and is_palindrome(word[1:-1])\n",
    "\n",
    "\n",
    "# Base cases\n",
    "print(is_palindrome(\"\"))\n",
    "\n",
    "print(is_palindrome(\"a\"))\n",
    "\n",
    "\n",
    "# Recursive cases\n",
    "print(is_palindrome(\"foo\"))\n",
    "\n",
    "print(is_palindrome(\"racecar\"))\n",
    "\n",
    "print(is_palindrome(\"troglodyte\"))\n",
    "\n",
    "is_palindrome(\"civic\")"
   ]
  },
  {
   "cell_type": "markdown",
   "metadata": {},
   "source": [
    "Quicksort Recursive"
   ]
  },
  {
   "cell_type": "code",
   "execution_count": null,
   "metadata": {},
   "outputs": [],
   "source": [
    "import statistics\n",
    "\n",
    "def quicksort(numbers):\n",
    "    if len(numbers) <= 1:\n",
    "        return numbers\n",
    "    else:\n",
    "        pivot = statistics.median(\n",
    "            [\n",
    "                numbers[0],\n",
    "                numbers[len(numbers) // 2],\n",
    "                numbers[-1]\n",
    "            ]\n",
    "        )\n",
    "        items_less, pivot_items, items_greater = (\n",
    "            [n for n in numbers if n < pivot],\n",
    "            [n for n in numbers if n == pivot],\n",
    "            [n for n in numbers if n > pivot]\n",
    "        )\n",
    "\n",
    "        return (\n",
    "            quicksort(items_less) +\n",
    "            pivot_items +\n",
    "            quicksort(items_greater)\n",
    "        )"
   ]
  },
  {
   "cell_type": "markdown",
   "metadata": {},
   "source": [
    "Let us test the quicksort"
   ]
  },
  {
   "cell_type": "code",
   "execution_count": null,
   "metadata": {},
   "outputs": [
    {
     "name": "stdout",
     "output_type": "stream",
     "text": [
      "[]\n",
      "[42]\n",
      "[2, 3, 5, 6]\n",
      "[-8, -3, 6, 10, 21]\n"
     ]
    }
   ],
   "source": [
    "# Base cases\n",
    "print(quicksort([]))\n",
    "\n",
    "print(quicksort([42]))\n",
    "\n",
    "\n",
    "# Recursive cases\n",
    "print(quicksort([5, 2, 6, 3]))\n",
    "\n",
    "print(quicksort([10, -3, 21, 6, -8]))"
   ]
  },
  {
   "cell_type": "code",
   "execution_count": null,
   "metadata": {},
   "outputs": [
    {
     "name": "stdout",
     "output_type": "stream",
     "text": [
      "[-8, -3, 6, 10, 21]\n"
     ]
    }
   ],
   "source": [
    "print(quicksort([10, -3, 21, 6, -8]))"
   ]
  },
  {
   "cell_type": "markdown",
   "metadata": {},
   "source": [
    "For testing purposes, you can define a short function that generates a list of random numbers between 1 and 100:"
   ]
  },
  {
   "cell_type": "code",
   "execution_count": null,
   "metadata": {},
   "outputs": [],
   "source": [
    "import random\n",
    "\n",
    "def get_random_numbers(length, minimum=1, maximum=100):\n",
    "    numbers = []\n",
    "    for _ in range(length):\n",
    "        numbers.append(random.randint(minimum, maximum))\n",
    "\n",
    "    return numbers"
   ]
  },
  {
   "cell_type": "code",
   "execution_count": null,
   "metadata": {},
   "outputs": [
    {
     "name": "stdout",
     "output_type": "stream",
     "text": [
      "[30, 93, 78, 70, 33, 72, 13, 82, 61, 22, 87, 75, 10, 50, 10, 85, 86, 87, 70, 86]\n",
      "[10, 10, 13, 22, 30, 33, 50, 61, 70, 70, 72, 75, 78, 82, 85, 86, 86, 87, 87, 93]\n",
      "[21, -46, -11, 18, 39, -28, 21, -43, -46, 47, 24, 8, -21, -19, -48]\n",
      "[-48, -46, -46, -43, -28, -21, -19, -11, 8, 18, 21, 21, 24, 39, 47]\n",
      "[85, 109, 131, 292, 340, 370, 432, 454, 457, 480]\n",
      "[1330, 1343, 1359, 1555, 1634, 1709, 1830, 1950, 1953, 1992]\n"
     ]
    }
   ],
   "source": [
    "numbers = get_random_numbers(20)\n",
    "print(numbers)\n",
    "\n",
    "print(quicksort(numbers))\n",
    "\n",
    "\n",
    "numbers = get_random_numbers(15, -50, 50)\n",
    "print(numbers)\n",
    "\n",
    "print(quicksort(numbers))\n",
    "\n",
    "\n",
    "print(quicksort(get_random_numbers(10, maximum=500)))\n",
    "\n",
    "print(quicksort(get_random_numbers(10, 1000, 2000)))"
   ]
  }
 ],
 "metadata": {
  "kernelspec": {
   "display_name": "Python 3",
   "language": "python",
   "name": "python3"
  },
  "language_info": {
   "codemirror_mode": {
    "name": "ipython",
    "version": 3
   },
   "file_extension": ".py",
   "mimetype": "text/x-python",
   "name": "python",
   "nbconvert_exporter": "python",
   "pygments_lexer": "ipython3",
   "version": "3.9.2"
  }
 },
 "nbformat": 4,
 "nbformat_minor": 2
}
