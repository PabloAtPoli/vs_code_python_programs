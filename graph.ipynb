{
 "cells": [
  {
   "cell_type": "markdown",
   "metadata": {},
   "source": [
    "Graph implemented as adjancy list"
   ]
  },
  {
   "cell_type": "code",
   "execution_count": 1,
   "metadata": {},
   "outputs": [
    {
     "name": "stdout",
     "output_type": "stream",
     "text": [
      "0 1 0 0\n",
      "1 0 1 0\n",
      "0 1 0 1\n",
      "0 0 1 0\n"
     ]
    }
   ],
   "source": [
    "def create_adjacency_matrix(graph):\n",
    "    # Get the number of vertices in the graph\n",
    "    num_vertices = len(graph)\n",
    "\n",
    "    # Initialize the adjacency matrix with zeros\n",
    "    adj_matrix = [[0] * num_vertices for _ in range(num_vertices)]\n",
    "\n",
    "    # Fill the adjacency matrix based on the edges in the graph\n",
    "    for i in range(num_vertices):\n",
    "        for j in range(num_vertices):\n",
    "            if graph[i][j] == 1:\n",
    "                adj_matrix[i][j] = 1\n",
    "                # For undirected graph, set symmetric entries\n",
    "                adj_matrix[j][i] = 1\n",
    "\n",
    "    return adj_matrix\n",
    "\n",
    "\n",
    "# The indices represent the vertices, and the values are lists of neighboring vertices\n",
    "graph = [\n",
    "    [0, 1, 0, 0],\n",
    "    [1, 0, 1, 0],\n",
    "    [0, 1, 0, 1],\n",
    "    [0, 0, 1, 0]\n",
    "]\n",
    "\n",
    "# Create the adjacency matrix\n",
    "adj_matrix = create_adjacency_matrix(graph)\n",
    "\n",
    "# Print the adjacency matrix\n",
    "for row in adj_matrix:\n",
    "    print(' '.join(map(str, row)))\n",
    "\n"
   ]
  },
  {
   "cell_type": "code",
   "execution_count": null,
   "metadata": {},
   "outputs": [],
   "source": []
  }
 ],
 "metadata": {
  "kernelspec": {
   "display_name": "Python 3",
   "language": "python",
   "name": "python3"
  },
  "language_info": {
   "codemirror_mode": {
    "name": "ipython",
    "version": 3
   },
   "file_extension": ".py",
   "mimetype": "text/x-python",
   "name": "python",
   "nbconvert_exporter": "python",
   "pygments_lexer": "ipython3",
   "version": "3.9.2"
  }
 },
 "nbformat": 4,
 "nbformat_minor": 2
}
